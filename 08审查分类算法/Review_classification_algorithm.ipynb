{
 "cells": [
  {
   "cell_type": "markdown",
   "metadata": {},
   "source": [
    "## 一、算法审查"
   ]
  },
  {
   "cell_type": "markdown",
   "metadata": {},
   "source": [
    "### 对于当前数据集，寻找最优算法"
   ]
  },
  {
   "cell_type": "markdown",
   "metadata": {},
   "source": [
    "### 没有最好的分类器，只有最合适的分类器。\n",
    "### 随机森林平均来说最强，但也只在9.9%的数据集上拿到了第一，优点是鲜有短板。\n",
    "### SVM的平均水平紧随其后，在10.7%的数据集上拿到第一。\n",
    "### 神经网络（13.2%）和boosting（~9%）表现不错。\n",
    "### 数据维度越高，随机森林就比AdaBoost强越多，但是整体不及SVM[2]。### 数据量越大，神经网络就越强。\n",
    "\n",
    "### 作者：xyzh\n",
    "### 链接：https://www.zhihu.com/question/26726794/answer/151282052\n",
    "### 来源：知乎\n",
    "### 著作权归作者所有。商业转载请联系作者获得授权，非商业转载请注明出处。"
   ]
  },
  {
   "cell_type": "markdown",
   "metadata": {},
   "source": [
    "## 二、线性算法"
   ]
  },
  {
   "cell_type": "markdown",
   "metadata": {},
   "source": [
    "### 1.逻辑回归"
   ]
  },
  {
   "cell_type": "markdown",
   "metadata": {},
   "source": [
    "### &ensp;&ensp;&ensp;&ensp;1.1 原理 ：函数找到最合适的参数，使得函数的值和样本的值最接近。"
   ]
  },
  {
   "cell_type": "markdown",
   "metadata": {},
   "source": [
    "### &ensp;&ensp;&ensp;&ensp;1.2 适用场景：虽然效果一般，却胜在模型清晰，背后的概率学经得住推敲"
   ]
  },
  {
   "cell_type": "markdown",
   "metadata": {},
   "source": [
    "### 2.线性判别分析（LDA）"
   ]
  },
  {
   "cell_type": "markdown",
   "metadata": {},
   "source": [
    "### &ensp;&ensp;&ensp;&ensp;2.1 原理 ：高维的样本投射(project)到低维上，LDA投射的标准就是让同类的样本尽量靠近，而不同类的尽量分开。"
   ]
  },
  {
   "cell_type": "markdown",
   "metadata": {},
   "source": [
    "### &ensp;&ensp;&ensp;&ensp;2.2 适用场景：判别分析适用于高维数据需要降维的情况，自带降维功能使得我们能方便地观察样本分布。（假定样本正态分布）"
   ]
  },
  {
   "cell_type": "markdown",
   "metadata": {},
   "source": [
    "## 三、非线性算法"
   ]
  },
  {
   "cell_type": "markdown",
   "metadata": {},
   "source": [
    "### 1.K近邻（KNN）"
   ]
  },
  {
   "cell_type": "markdown",
   "metadata": {},
   "source": [
    "### &ensp;&ensp;&ensp;&ensp;1.1 原理 ：对于待判断的点，找到离它最近的几个数据点，根据它们的类型决定待判断点的类型。"
   ]
  },
  {
   "cell_type": "markdown",
   "metadata": {},
   "source": [
    "### &ensp;&ensp;&ensp;&ensp;1.2 适用场景：需要一个特别容易解释的模型的时候，比如需要向用户解释原因的推荐算法。"
   ]
  },
  {
   "cell_type": "markdown",
   "metadata": {},
   "source": [
    "### 2.贝叶斯分类器"
   ]
  },
  {
   "cell_type": "markdown",
   "metadata": {},
   "source": [
    "### &ensp;&ensp;&ensp;&ensp;2.1 原理 ：核心思路是根据条件概率计算待判断点的类型。"
   ]
  },
  {
   "cell_type": "markdown",
   "metadata": {},
   "source": [
    "### &ensp;&ensp;&ensp;&ensp;2.2 适用场景：需要一个比较容易解释，而且不同维度之间相关性较小的模型的时候。"
   ]
  },
  {
   "cell_type": "markdown",
   "metadata": {},
   "source": [
    "### 3.分类与回归树（CART）"
   ]
  },
  {
   "cell_type": "markdown",
   "metadata": {},
   "source": [
    "### &ensp;&ensp;&ensp;&ensp;3.1 原理 ：给定输入随机变量X条件下，输出随机变量Y的条件概率分布的学习方法"
   ]
  },
  {
   "cell_type": "markdown",
   "metadata": {},
   "source": [
    "### 4.支持向量机（SVM）"
   ]
  },
  {
   "cell_type": "markdown",
   "metadata": {},
   "source": [
    "### &ensp;&ensp;&ensp;&ensp;4.1 原理 ：找到不同类别之间的分界面，使得两类样本尽量落在面的两边，而且离分界面尽量远。"
   ]
  },
  {
   "cell_type": "markdown",
   "metadata": {},
   "source": [
    "### &ensp;&ensp;&ensp;&ensp;4.2 适用场景：普遍适用"
   ]
  },
  {
   "cell_type": "markdown",
   "metadata": {},
   "source": [
    "### 5.随机森林"
   ]
  },
  {
   "cell_type": "markdown",
   "metadata": {},
   "source": [
    "### &ensp;&ensp;&ensp;&ensp;5.1 原理 ：它首先随机选取不同的特征和训练样本，生成大量的决策树，然后综合这些决策树的结果来进行最终的分类。"
   ]
  },
  {
   "cell_type": "markdown",
   "metadata": {},
   "source": [
    "### &ensp;&ensp;&ensp;&ensp;5.2 适用场景：数据维度相对低（几十维），同时对准确性有较高要求时。"
   ]
  },
  {
   "cell_type": "markdown",
   "metadata": {},
   "source": [
    "### 6.神经网络"
   ]
  },
  {
   "cell_type": "markdown",
   "metadata": {},
   "source": [
    "### &ensp;&ensp;&ensp;&ensp;6.1 原理 ：利用训练样本(training sample)来逐渐地完善参数。"
   ]
  },
  {
   "cell_type": "markdown",
   "metadata": {},
   "source": [
    "### &ensp;&ensp;&ensp;&ensp;6.2 适用场景：数据量庞大，参数之间存在内在联系的时候。"
   ]
  },
  {
   "cell_type": "markdown",
   "metadata": {},
   "source": [
    "## 四、测试"
   ]
  },
  {
   "cell_type": "code",
   "execution_count": 28,
   "metadata": {},
   "outputs": [
    {
     "name": "stdout",
     "output_type": "stream",
     "text": [
      "KNN: 0.933 (0.084)\n",
      "LDA: 0.967 (0.061)\n",
      "SVM: 0.953 (0.052)\n",
      "NB: 0.947 (0.058)\n",
      "CART: 0.933 (0.084)\n",
      "RF: 0.947 (0.072)\n",
      "LR: 0.880 (0.148)\n"
     ]
    },
    {
     "data": {
      "image/png": "[encoded data removed]",
      "text/plain": [
       "<matplotlib.figure.Figure at 0xca5d7d0>"
      ]
     },
     "metadata": {},
     "output_type": "display_data"
    }
   ],
   "source": [
    "from pandas import read_csv\n",
    "import pandas as pd\n",
    "from sklearn.model_selection import KFold\n",
    "from sklearn.linear_model import LogisticRegression\n",
    "from sklearn.discriminant_analysis import LinearDiscriminantAnalysis\n",
    "from sklearn.neighbors import KNeighborsClassifier\n",
    "from sklearn.tree import DecisionTreeClassifier\n",
    "from sklearn.svm import SVC\n",
    "from sklearn.model_selection import cross_val_score\n",
    "from sklearn.ensemble import RandomForestClassifier\n",
    "from matplotlib import pyplot\n",
    "from sklearn.preprocessing import LabelEncoder\n",
    "\n",
    "\n",
    "\n",
    "# 导入数据\n",
    "iris =pd.read_csv('http://archive.ics.uci.edu/ml/machine-learning-databases/iris/iris.data',header=None)\n",
    "iris.columns=['SepalLengthCm','SepalWidthCm','PetalLengthCm','PetalWidthCm','Species'] \n",
    "\n",
    "# 将数据分为输入数据和输出结果\n",
    "arrary = iris.values\n",
    "# print(arrary)\n",
    "X =arrary[:,0:4]\n",
    "\n",
    "le = LabelEncoder()\n",
    "le.fit(iris['Species'])   \n",
    "Y = le.transform(iris['Species']) # 对花的类别进行编号处理\n",
    "\n",
    "num_folds = 10\n",
    "seed = 7\n",
    "kfold = KFold(n_splits=num_folds, random_state=seed)\n",
    "models = {}\n",
    "\n",
    "# 逻辑回归\n",
    "models['LR'] = LogisticRegression()\n",
    "# 线性判别分析\n",
    "models['LDA'] = LinearDiscriminantAnalysis()\n",
    "# K近邻\n",
    "models['KNN'] = KNeighborsClassifier()\n",
    "# 分类与回归树\n",
    "models['CART'] = DecisionTreeClassifier()\n",
    "# 支持向量机\n",
    "models['SVM'] = SVC()\n",
    "# 随机森林\n",
    "models['RF'] = RandomForestClassifier(10)\n",
    "# 朴素贝叶斯分类器\n",
    "models['NB'] = GaussianNB()\n",
    "\n",
    "results = []\n",
    "for name in models:\n",
    "    result = cross_val_score(models[name], X, Y, cv=kfold)\n",
    "    results.append(result)\n",
    "    msg = '%s: %.3f (%.3f)' % (name, result.mean(), result.std())\n",
    "    print(msg)\n",
    "\n",
    "# 图表显示\n",
    "fig = pyplot.figure()\n",
    "fig.suptitle('Algorithm Comparison')\n",
    "ax = fig.add_subplot(111)\n",
    "pyplot.boxplot(results)\n",
    "ax.set_xticklabels(models.keys())\n",
    "pyplot.show()\n"
   ]
  },
  {
   "cell_type": "markdown",
   "metadata": {},
   "source": [
    "## 五、测试"
   ]
  },
  {
   "cell_type": "markdown",
   "metadata": {},
   "source": [
    "### git ：https://coding.net/u/RuoYun/p/Python-of-machine-learning/git/tree/master\n"
   ]
  },
  {
   "cell_type": "markdown",
   "metadata": {},
   "source": [
    "### 参考：https://read.douban.com/column/6939417/"
   ]
  }
 ],
 "metadata": {
  "kernelspec": {
   "display_name": "Python 2",
   "language": "python",
   "name": "python2"
  },
  "language_info": {
   "codemirror_mode": {
    "name": "ipython",
    "version": 2
   },
   "file_extension": ".py",
   "mimetype": "text/x-python",
   "name": "python",
   "nbconvert_exporter": "python",
   "pygments_lexer": "ipython2",
   "version": "2.7.13"
  }
 },
 "nbformat": 4,
 "nbformat_minor": 2
}
