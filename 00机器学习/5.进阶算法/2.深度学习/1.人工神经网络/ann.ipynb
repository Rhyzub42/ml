{
 "cells": [
  {
   "cell_type": "markdown",
   "metadata": {},
   "source": [
    "## 一、导入标准库"
   ]
  },
  {
   "cell_type": "code",
   "execution_count": 1,
   "metadata": {},
   "outputs": [],
   "source": [
    "# python3\n",
    "# Importing the libraries 导入库\n",
    "import numpy as np\n",
    "import matplotlib.pyplot as plt\n",
    "import pandas as pd\n",
    "# 使图像能够调整\n",
    "%matplotlib notebook \n",
    "#中文字体显示  \n",
    "plt.rc('font', family='SimHei', size=8)"
   ]
  },
  {
   "cell_type": "markdown",
   "metadata": {},
   "source": [
    "## 二、导入数据"
   ]
  },
  {
   "cell_type": "code",
   "execution_count": 3,
   "metadata": {},
   "outputs": [
    {
     "data": {
      "text/html": [
       "<div>\n",
       "<style>\n",
       "    .dataframe thead tr:only-child th {\n",
       "        text-align: right;\n",
       "    }\n",
       "\n",
       "    .dataframe thead th {\n",
       "        text-align: left;\n",
       "    }\n",
       "\n",
       "    .dataframe tbody tr th {\n",
       "        vertical-align: top;\n",
       "    }\n",
       "</style>\n",
       "<table border=\"1\" class=\"dataframe\">\n",
       "  <thead>\n",
       "    <tr style=\"text-align: right;\">\n",
       "      <th></th>\n",
       "      <th>RowNumber</th>\n",
       "      <th>CustomerId</th>\n",
       "      <th>Surname</th>\n",
       "      <th>CreditScore</th>\n",
       "      <th>Geography</th>\n",
       "      <th>Gender</th>\n",
       "      <th>Age</th>\n",
       "      <th>Tenure</th>\n",
       "      <th>Balance</th>\n",
       "      <th>NumOfProducts</th>\n",
       "      <th>HasCrCard</th>\n",
       "      <th>IsActiveMember</th>\n",
       "      <th>EstimatedSalary</th>\n",
       "      <th>Exited</th>\n",
       "    </tr>\n",
       "  </thead>\n",
       "  <tbody>\n",
       "    <tr>\n",
       "      <th>0</th>\n",
       "      <td>1</td>\n",
       "      <td>15634602</td>\n",
       "      <td>Hargrave</td>\n",
       "      <td>619</td>\n",
       "      <td>France</td>\n",
       "      <td>Female</td>\n",
       "      <td>42</td>\n",
       "      <td>2</td>\n",
       "      <td>0.00</td>\n",
       "      <td>1</td>\n",
       "      <td>1</td>\n",
       "      <td>1</td>\n",
       "      <td>101348.88</td>\n",
       "      <td>1</td>\n",
       "    </tr>\n",
       "    <tr>\n",
       "      <th>1</th>\n",
       "      <td>2</td>\n",
       "      <td>15647311</td>\n",
       "      <td>Hill</td>\n",
       "      <td>608</td>\n",
       "      <td>Spain</td>\n",
       "      <td>Female</td>\n",
       "      <td>41</td>\n",
       "      <td>1</td>\n",
       "      <td>83807.86</td>\n",
       "      <td>1</td>\n",
       "      <td>0</td>\n",
       "      <td>1</td>\n",
       "      <td>112542.58</td>\n",
       "      <td>0</td>\n",
       "    </tr>\n",
       "    <tr>\n",
       "      <th>2</th>\n",
       "      <td>3</td>\n",
       "      <td>15619304</td>\n",
       "      <td>Onio</td>\n",
       "      <td>502</td>\n",
       "      <td>France</td>\n",
       "      <td>Female</td>\n",
       "      <td>42</td>\n",
       "      <td>8</td>\n",
       "      <td>159660.80</td>\n",
       "      <td>3</td>\n",
       "      <td>1</td>\n",
       "      <td>0</td>\n",
       "      <td>113931.57</td>\n",
       "      <td>1</td>\n",
       "    </tr>\n",
       "    <tr>\n",
       "      <th>3</th>\n",
       "      <td>4</td>\n",
       "      <td>15701354</td>\n",
       "      <td>Boni</td>\n",
       "      <td>699</td>\n",
       "      <td>France</td>\n",
       "      <td>Female</td>\n",
       "      <td>39</td>\n",
       "      <td>1</td>\n",
       "      <td>0.00</td>\n",
       "      <td>2</td>\n",
       "      <td>0</td>\n",
       "      <td>0</td>\n",
       "      <td>93826.63</td>\n",
       "      <td>0</td>\n",
       "    </tr>\n",
       "    <tr>\n",
       "      <th>4</th>\n",
       "      <td>5</td>\n",
       "      <td>15737888</td>\n",
       "      <td>Mitchell</td>\n",
       "      <td>850</td>\n",
       "      <td>Spain</td>\n",
       "      <td>Female</td>\n",
       "      <td>43</td>\n",
       "      <td>2</td>\n",
       "      <td>125510.82</td>\n",
       "      <td>1</td>\n",
       "      <td>1</td>\n",
       "      <td>1</td>\n",
       "      <td>79084.10</td>\n",
       "      <td>0</td>\n",
       "    </tr>\n",
       "  </tbody>\n",
       "</table>\n",
       "</div>"
      ],
      "text/plain": [
       "   RowNumber  CustomerId   Surname  CreditScore Geography  Gender  Age  \\\n",
       "0          1    15634602  Hargrave          619    France  Female   42   \n",
       "1          2    15647311      Hill          608     Spain  Female   41   \n",
       "2          3    15619304      Onio          502    France  Female   42   \n",
       "3          4    15701354      Boni          699    France  Female   39   \n",
       "4          5    15737888  Mitchell          850     Spain  Female   43   \n",
       "\n",
       "   Tenure    Balance  NumOfProducts  HasCrCard  IsActiveMember  \\\n",
       "0       2       0.00              1          1               1   \n",
       "1       1   83807.86              1          0               1   \n",
       "2       8  159660.80              3          1               0   \n",
       "3       1       0.00              2          0               0   \n",
       "4       2  125510.82              1          1               1   \n",
       "\n",
       "   EstimatedSalary  Exited  \n",
       "0        101348.88       1  \n",
       "1        112542.58       0  \n",
       "2        113931.57       1  \n",
       "3         93826.63       0  \n",
       "4         79084.10       0  "
      ]
     },
     "execution_count": 3,
     "metadata": {},
     "output_type": "execute_result"
    }
   ],
   "source": [
    "dataset = pd.read_csv('./Churn_Modelling.csv') # 通过已知的顾客信息来预测顾客是否留在这个银行\n",
    "dataset.head()"
   ]
  },
  {
   "cell_type": "code",
   "execution_count": 17,
   "metadata": {},
   "outputs": [
    {
     "data": {
      "text/plain": [
       "(array([[619, 'France', 'Female', ..., 1, 1, 101348.88],\n",
       "        [608, 'Spain', 'Female', ..., 0, 1, 112542.58],\n",
       "        [502, 'France', 'Female', ..., 1, 0, 113931.57],\n",
       "        ..., \n",
       "        [709, 'France', 'Female', ..., 0, 1, 42085.58],\n",
       "        [772, 'Germany', 'Male', ..., 1, 0, 92888.52],\n",
       "        [792, 'France', 'Female', ..., 1, 0, 38190.78]], dtype=object),\n",
       " array([1, 0, 1, ..., 1, 1, 0], dtype=int64))"
      ]
     },
     "execution_count": 17,
     "metadata": {},
     "output_type": "execute_result"
    }
   ],
   "source": [
    "X = dataset.iloc[:, 3:13].values # 影响顾客是否去留的因素\n",
    "y = dataset.iloc[:, 13].values     # 顾客去留\n",
    "X,y"
   ]
  },
  {
   "cell_type": "markdown",
   "metadata": {},
   "source": [
    "## 三、虚拟变量处理"
   ]
  },
  {
   "cell_type": "code",
   "execution_count": 18,
   "metadata": {},
   "outputs": [],
   "source": [
    "from sklearn.preprocessing import LabelEncoder, OneHotEncoder\n",
    "labelencoder_X_1= LabelEncoder()\n",
    "X[:, 1] = labelencoder_X_1.fit_transform(X[:, 1]) # 将国家变为数字\n"
   ]
  },
  {
   "cell_type": "code",
   "execution_count": 19,
   "metadata": {},
   "outputs": [
    {
     "data": {
      "text/plain": [
       "array([[  0.00000000e+00,   0.00000000e+00,   6.19000000e+02, ...,\n",
       "          1.00000000e+00,   1.00000000e+00,   1.01348880e+05],\n",
       "       [  0.00000000e+00,   1.00000000e+00,   6.08000000e+02, ...,\n",
       "          0.00000000e+00,   1.00000000e+00,   1.12542580e+05],\n",
       "       [  0.00000000e+00,   0.00000000e+00,   5.02000000e+02, ...,\n",
       "          1.00000000e+00,   0.00000000e+00,   1.13931570e+05],\n",
       "       ..., \n",
       "       [  0.00000000e+00,   0.00000000e+00,   7.09000000e+02, ...,\n",
       "          0.00000000e+00,   1.00000000e+00,   4.20855800e+04],\n",
       "       [  1.00000000e+00,   0.00000000e+00,   7.72000000e+02, ...,\n",
       "          1.00000000e+00,   0.00000000e+00,   9.28885200e+04],\n",
       "       [  0.00000000e+00,   0.00000000e+00,   7.92000000e+02, ...,\n",
       "          1.00000000e+00,   0.00000000e+00,   3.81907800e+04]])"
      ]
     },
     "execution_count": 19,
     "metadata": {},
     "output_type": "execute_result"
    }
   ],
   "source": [
    "labelencoder_X_2= LabelEncoder()\n",
    "X[:, 2] = labelencoder_X_2.fit_transform(X[:, 2]) # 将性别变为数字\n",
    "onehotencoder = OneHotEncoder(categorical_features = [1])# 将国家变为虚拟变量（避免三个值有前后顺序）\n",
    "X = onehotencoder.fit_transform(X).toarray()    \n",
    "X = X[:,1:] # 删去第0列，避免虚拟变量陷阱\n",
    "X"
   ]
  },
  {
   "cell_type": "markdown",
   "metadata": {},
   "source": [
    "## 四、区分训练集和测试集"
   ]
  },
  {
   "cell_type": "code",
   "execution_count": 20,
   "metadata": {},
   "outputs": [],
   "source": [
    "from sklearn.model_selection import train_test_split\n",
    "X_train,X_test,y_train,y_test = train_test_split(X,y,test_size=0.2,random_state = 0)"
   ]
  },
  {
   "cell_type": "markdown",
   "metadata": {},
   "source": [
    "## 五、创建神经网络"
   ]
  },
  {
   "cell_type": "code",
   "execution_count": 21,
   "metadata": {},
   "outputs": [],
   "source": [
    "# 导入标准库\n",
    "import keras\n",
    "from keras.models import Sequential\n",
    "from keras.layers import Dense"
   ]
  },
  {
   "cell_type": "markdown",
   "metadata": {},
   "source": [
    "## 六、ANN"
   ]
  },
  {
   "cell_type": "code",
   "execution_count": 36,
   "metadata": {
    "scrolled": false
   },
   "outputs": [
    {
     "name": "stdout",
     "output_type": "stream",
     "text": [
      "Epoch 1/100\n",
      "8000/8000 [==============================] - 60s 8ms/step - loss: 0.5448 - acc: 0.7927\n",
      "Epoch 2/100\n",
      "8000/8000 [==============================] - 54s 7ms/step - loss: 0.5227 - acc: 0.7960\n",
      "Epoch 3/100\n",
      "8000/8000 [==============================] - 54s 7ms/step - loss: 0.5118 - acc: 0.7960\n",
      "Epoch 4/100\n",
      "8000/8000 [==============================] - 38s 5ms/step - loss: 0.5085 - acc: 0.7960\n",
      "Epoch 5/100\n",
      "8000/8000 [==============================] - 36s 4ms/step - loss: 0.5058 - acc: 0.7960\n",
      "Epoch 6/100\n",
      "8000/8000 [==============================] - 50s 6ms/step - loss: 0.5034 - acc: 0.7960:  - ETA: 12s - loss: 0.5041 - ETA: 11s -  - ETA: 10s - loss: 0. - ETA: 8s - loss: 0.5051 - - ETA: 7s - loss: 0.5060 - acc: 0.7 - ETA: 7s - ETA: - ETA - ETA: 0s - loss: 0.5036 - \n",
      "Epoch 7/100\n",
      "8000/8000 [==============================] - 55s 7ms/step - loss: 0.5047 - acc: 0.7960\n",
      "Epoch 8/100\n",
      "8000/8000 [==============================] - 57s 7ms/step - loss: 0.5023 - acc: 0.7960A: 9s - l - ETA: 7s - loss: 0.5052 - acc - ETA: 7s - loss: 0.5043 - ac - ETA: 6s - loss: 0.505 - ETA: 5s - l - ETA: 2s - loss\n",
      "Epoch 9/100\n",
      "8000/8000 [==============================] - 43s 5ms/step - loss: 0.5009 - acc: 0.7960: 0s - loss: 0.5026\n",
      "Epoch 10/100\n",
      "8000/8000 [==============================] - 44s 6ms/step - loss: 0.5015 - acc: 0.7960- \n",
      "Epoch 11/100\n",
      "8000/8000 [==============================] - 48s 6ms/step - loss: 0.5005 - acc: 0.7960TA: 1s - loss: 0.4\n",
      "Epoch 12/100\n",
      "8000/8000 [==============================] - 53s 7ms/step - loss: 0.5002 - acc: 0.7960: 20s - loss: 0.5038 - - ETA: 19s  - ETA: 4s - loss: 0.5004 - acc: 0.795 - ETA: 4s - loss: 0.5008 - acc: 0.795 - ETA: 4s - loss: 0.5008 - - ETA: 3s - loss: 0.5026 - acc: 0 - ETA: 3s - loss: 0.5027 - ac - ETA: 3s - loss: 0.5029 - acc: 0.7 - ETA: 2s - loss: - ETA: 1s - loss: 0.502\n",
      "Epoch 13/100\n",
      "8000/8000 [==============================] - 52s 6ms/step - loss: 0.5017 - acc: 0.7960: 11s - loss: 0.5058 - ETA: 10s - loss: 0.5054 - acc: 0 - ETA: 9s - loss: 0.5054 - acc: 0 - ETA: 9s - loss: 0.5053 - acc:  - ETA: 6s - loss: 0.50 - ETA: 5s - l\n",
      "Epoch 14/100\n",
      "8000/8000 [==============================] - 47s 6ms/step - loss: 0.5008 - acc: 0.7960\n",
      "Epoch 15/100\n",
      "8000/8000 [==============================] - 38s 5ms/step - loss: 0.5015 - acc: 0.7960\n",
      "Epoch 16/100\n",
      "8000/8000 [==============================] - 26s 3ms/step - loss: 0.5004 - acc: 0.7960\n",
      "Epoch 17/100\n",
      "8000/8000 [==============================] - 25s 3ms/step - loss: 0.5001 - acc: 0.7960\n",
      "Epoch 18/100\n",
      "8000/8000 [==============================] - 24s 3ms/step - loss: 0.5002 - acc: 0.7960\n",
      "Epoch 19/100\n",
      "8000/8000 [==============================] - 26s 3ms/step - loss: 0.5006 - acc: 0.7960\n",
      "Epoch 20/100\n",
      "8000/8000 [==============================] - 24s 3ms/step - loss: 0.5000 - acc: 0.7960\n",
      "Epoch 21/100\n",
      "8000/8000 [==============================] - 25s 3ms/step - loss: 0.4999 - acc: 0.7960\n",
      "Epoch 22/100\n",
      "8000/8000 [==============================] - 26s 3ms/step - loss: 0.5005 - acc: 0.7960\n",
      "Epoch 23/100\n",
      "8000/8000 [==============================] - 25s 3ms/step - loss: 0.5001 - acc: 0.7960\n",
      "Epoch 24/100\n",
      "8000/8000 [==============================] - 27s 3ms/step - loss: 0.5001 - acc: 0.7960: 0s - loss: 0.4988 - a\n",
      "Epoch 25/100\n",
      "8000/8000 [==============================] - 24s 3ms/step - loss: 0.4994 - acc: 0.7960:\n",
      "Epoch 26/100\n",
      "8000/8000 [==============================] - 22s 3ms/step - loss: 0.5005 - acc: 0.7960\n",
      "Epoch 27/100\n",
      "8000/8000 [==============================] - 20s 3ms/step - loss: 0.5006 - acc: 0.7960\n",
      "Epoch 28/100\n",
      "8000/8000 [==============================] - 20s 2ms/step - loss: 0.5001 - acc: 0.7960\n",
      "Epoch 29/100\n",
      "8000/8000 [==============================] - 19s 2ms/step - loss: 0.4997 - acc: 0.7960\n",
      "Epoch 30/100\n",
      "8000/8000 [==============================] - 19s 2ms/step - loss: 0.4998 - acc: 0.7960\n",
      "Epoch 31/100\n",
      "8000/8000 [==============================] - 20s 2ms/step - loss: 0.4997 - acc: 0.7960\n",
      "Epoch 32/100\n",
      "8000/8000 [==============================] - 19s 2ms/step - loss: 0.5009 - acc: 0.7960\n",
      "Epoch 33/100\n",
      "8000/8000 [==============================] - 19s 2ms/step - loss: 0.4999 - acc: 0.7960\n",
      "Epoch 34/100\n",
      "8000/8000 [==============================] - 20s 2ms/step - loss: 0.4998 - acc: 0.7960\n",
      "Epoch 35/100\n",
      "8000/8000 [==============================] - 22s 3ms/step - loss: 0.5002 - acc: 0.7960\n",
      "Epoch 36/100\n",
      "8000/8000 [==============================] - 23s 3ms/step - loss: 0.5002 - acc: 0.7960\n",
      "Epoch 37/100\n",
      "8000/8000 [==============================] - 25s 3ms/step - loss: 0.5016 - acc: 0.7960\n",
      "Epoch 38/100\n",
      "8000/8000 [==============================] - 24s 3ms/step - loss: 0.5006 - acc: 0.7960\n",
      "Epoch 39/100\n",
      "8000/8000 [==============================] - 21s 3ms/step - loss: 0.5011 - acc: 0.7960\n",
      "Epoch 40/100\n",
      "8000/8000 [==============================] - 20s 2ms/step - loss: 0.5000 - acc: 0.7960\n",
      "Epoch 41/100\n",
      "8000/8000 [==============================] - 19s 2ms/step - loss: 0.5005 - acc: 0.7960\n",
      "Epoch 42/100\n",
      "8000/8000 [==============================] - 19s 2ms/step - loss: 0.4999 - acc: 0.7960\n",
      "Epoch 43/100\n",
      "8000/8000 [==============================] - 20s 3ms/step - loss: 0.4994 - acc: 0.7960\n",
      "Epoch 44/100\n",
      "8000/8000 [==============================] - 19s 2ms/step - loss: 0.4990 - acc: 0.7960\n",
      "Epoch 45/100\n",
      "8000/8000 [==============================] - 19s 2ms/step - loss: 0.5001 - acc: 0.7960\n",
      "Epoch 46/100\n",
      "8000/8000 [==============================] - 22s 3ms/step - loss: 0.4995 - acc: 0.7960\n",
      "Epoch 47/100\n",
      "8000/8000 [==============================] - 19s 2ms/step - loss: 0.4995 - acc: 0.7960\n",
      "Epoch 48/100\n",
      "8000/8000 [==============================] - 20s 2ms/step - loss: 0.4992 - acc: 0.7960\n",
      "Epoch 49/100\n",
      "8000/8000 [==============================] - 26s 3ms/step - loss: 0.4998 - acc: 0.7960: 0s - loss: 0.4981 - acc: 0.79 - ETA: 0s - loss: 0.4979 - acc: 0.796 - ETA: 0s - loss: 0.4981 -\n",
      "Epoch 50/100\n",
      "8000/8000 [==============================] - 34s 4ms/step - loss: 0.4991 - acc: 0.7960\n",
      "Epoch 51/100\n",
      "8000/8000 [==============================] - 54s 7ms/step - loss: 0.5002 - acc: 0.7960\n",
      "Epoch 52/100\n",
      "8000/8000 [==============================] - 54s 7ms/step - loss: 0.5000 - acc: 0.7960\n",
      "Epoch 53/100\n",
      "8000/8000 [==============================] - 53s 7ms/step - loss: 0.4990 - acc: 0.7960TA: 7s - loss: 0.4976 - acc: 0.797 - ETA: 7s - loss: 0.4976 - a\n",
      "Epoch 54/100\n",
      "8000/8000 [==============================] - 49s 6ms/step - loss: 0.4994 - acc: 0.7960\n",
      "Epoch 55/100\n",
      "8000/8000 [==============================] - 58s 7ms/step - loss: 0.4987 - acc: 0.7960: 1s - loss: 0.49\n",
      "Epoch 56/100\n",
      "8000/8000 [==============================] - 54s 7ms/step - loss: 0.4993 - acc: 0.7960\n",
      "Epoch 57/100\n",
      "8000/8000 [==============================] - 46s 6ms/step - loss: 0.4999 - acc: 0.7960\n",
      "Epoch 58/100\n",
      "8000/8000 [==============================] - ETA: 0s - loss: 0.4995 - acc: 0.795 - 53s 7ms/step - loss: 0.4992 - acc: 0.7960\n",
      "Epoch 59/100\n",
      "8000/8000 [==============================] - 47s 6ms/step - loss: 0.5000 - acc: 0.7960\n",
      "Epoch 60/100\n",
      "8000/8000 [==============================] - 46s 6ms/step - loss: 0.5004 - acc: 0.7960\n",
      "Epoch 61/100\n",
      "8000/8000 [==============================] - 44s 6ms/step - loss: 0.4989 - acc: 0.7960: 6 - ET\n",
      "Epoch 62/100\n",
      "8000/8000 [==============================] - 51s 6ms/step - loss: 0.4993 - acc: 0.7960: 9s - loss: 0.4955 - acc:  - \n",
      "Epoch 63/100\n",
      "8000/8000 [==============================] - 49s 6ms/step - loss: 0.5003 - acc: 0.7960\n",
      "Epoch 64/100\n",
      "8000/8000 [==============================] - 46s 6ms/step - loss: 0.4995 - acc: 0.7960\n",
      "Epoch 65/100\n",
      "8000/8000 [==============================] - 50s 6ms/step - loss: 0.5001 - acc: 0.7960: 9s  - ETA: 7s -\n",
      "Epoch 66/100\n",
      "8000/8000 [==============================] - 51s 6ms/step - loss: 0.4994 - acc: 0.7960\n",
      "Epoch 67/100\n",
      "8000/8000 [==============================] - 47s 6ms/step - loss: 0.4987 - acc: 0.7960\n",
      "Epoch 68/100\n",
      "8000/8000 [==============================] - 53s 7ms/step - loss: 0.4995 - acc: 0.7960: 1s - loss: 0.4\n",
      "Epoch 69/100\n",
      "8000/8000 [==============================] - 65s 8ms/step - loss: 0.4998 - acc: 0.7960: - ETA: 1s - loss: 0.5009 - acc: 0.795 - ETA: 0s - loss: 0.5009 - acc: 0. - ETA: 0s - loss: 0.4999 - acc: 0.79 - ETA: 0s - loss: 0.5002 - acc: \n",
      "Epoch 70/100\n"
     ]
    },
    {
     "name": "stdout",
     "output_type": "stream",
     "text": [
      "8000/8000 [==============================] - 57s 7ms/step - loss: 0.4985 - acc: 0.7960: 10s - loss: 0.5001 - ETA: 10s -\n",
      "Epoch 71/100\n",
      "8000/8000 [==============================] - 54s 7ms/step - loss: 0.4995 - acc: 0.7960: 3s - loss: 0.5006 - - ETA: 2s - loss:  - ETA: 1s - loss: 0\n",
      "Epoch 72/100\n",
      "8000/8000 [==============================] - 55s 7ms/step - loss: 0.4989 - acc: 0.7960\n",
      "Epoch 73/100\n",
      "8000/8000 [==============================] - ETA: 0s - loss: 0.4991 - acc: 0.7959  E - ETA: 10s - loss: 0.5004 - acc: 0. - ETA: 10s - loss:  - ETA: 9s - loss: 0.5019 - a - ETA: 8s - loss: 0.5035 - a - 56s 7ms/step - loss: 0.4989 - acc: 0.7960\n",
      "Epoch 74/100\n",
      "8000/8000 [==============================] - 50s 6ms/step - loss: 0.5010 - acc: 0.7960: 0s - loss: 0.5010 - acc: 0.79\n",
      "Epoch 75/100\n",
      "8000/8000 [==============================] - ETA: 0s - loss: 0.4992 - acc: 0.7962- ETA: 4s - loss: 0.5021 - acc - ETA: 4s - loss: 0.5014 - ac - ETA - ETA: 1s - lo - 52s 7ms/step - loss: 0.4995 - acc: 0.7960\n",
      "Epoch 76/100\n",
      "8000/8000 [==============================] - 56s 7ms/step - loss: 0.4992 - acc: 0.7960: 7s - loss: 0.4997 - acc: \n",
      "Epoch 77/100\n",
      "8000/8000 [==============================] - 39s 5ms/step - loss: 0.5010 - acc: 0.7960\n",
      "Epoch 78/100\n",
      "8000/8000 [==============================] - 53s 7ms/step - loss: 0.4990 - acc: 0.7960: 1s - loss: 0.4\n",
      "Epoch 79/100\n",
      "8000/8000 [==============================] - 60s 8ms/step - loss: 0.5000 - acc: 0.7960: 3s - - ETA: 1s - loss: \n",
      "Epoch 80/100\n",
      "8000/8000 [==============================] - ETA: 0s - loss: 0.4999 - acc: 0.7957- ETA:  - 67s 8ms/step - loss: 0.4995 - acc: 0.7960\n",
      "Epoch 81/100\n",
      "8000/8000 [==============================] - 73s 9ms/step - loss: 0.4996 - acc: 0.7960TA: 0s - loss: 0.4986 - acc\n",
      "Epoch 82/100\n",
      "8000/8000 [==============================] - 72s 9ms/step - loss: 0.4990 - acc: 0.7960: 5s - loss: 0.4 - ETA: 4s - loss: 0 - ETA: 2s - \n",
      "Epoch 83/100\n",
      "8000/8000 [==============================] - 77s 10ms/step - loss: 0.4984 - acc: 0.7960 7s - loss: 0.4975 -  - ETA: 5s - los -\n",
      "Epoch 84/100\n",
      "8000/8000 [==============================] - 69s 9ms/step - loss: 0.4987 - acc: 0.7960: 18s - loss: 0.501\n",
      "Epoch 85/100\n",
      "8000/8000 [==============================] - 64s 8ms/step - loss: 0.4985 - acc: 0.7960\n",
      "Epoch 86/100\n",
      "8000/8000 [==============================] - 68s 9ms/step - loss: 0.4995 - acc: 0.7960\n",
      "Epoch 87/100\n",
      "8000/8000 [==============================] - 70s 9ms/step - loss: 0.4993 - acc: 0.7960\n",
      "Epoch 88/100\n",
      "8000/8000 [==============================] - 66s 8ms/step - loss: 0.4985 - acc: 0.7960: 6s - loss: 0.4965 - acc: 0.797 - ETA: \n",
      "Epoch 89/100\n",
      "8000/8000 [==============================] - 75s 9ms/step - loss: 0.4983 - acc: 0.7960: 9s - loss: 0.4954 - - ETA: 8s - loss: 0.4946 - acc: 0.7 - ETA: 8s - loss: 0.4946 - ETA: 3s - loss:  - ETA: 1s - loss: 0.4978 - acc: 0 - ETA: 1s - loss: 0.4981 - acc: 0. - ETA: 0s - loss: 0.4979 - ac\n",
      "Epoch 90/100\n",
      "8000/8000 [==============================] - 78s 10ms/step - loss: 0.4986 - acc: 0.7960\n",
      "Epoch 91/100\n",
      "8000/8000 [==============================] - 74s 9ms/step - loss: 0.5003 - acc: 0.7960: 0s - loss: 0.5003 - acc: \n",
      "Epoch 92/100\n",
      "8000/8000 [==============================] - 72s 9ms/step - loss: 0.4997 - acc: 0.7960\n",
      "Epoch 93/100\n",
      "8000/8000 [==============================] - 56s 7ms/step - loss: 0.4994 - acc: 0.7960: 16s - loss: 0.5027 - acc: 0.79 - ETA: 16 - ETA: 14s  - ETA: 10s - loss:  - ETA: 9s - loss: 0.5027  - ETA: 7s - loss: 0.5029 - acc:  - ETA: 7s - lo\n",
      "Epoch 94/100\n",
      "8000/8000 [==============================] - 51s 6ms/step - loss: 0.4989 - acc: 0.7960\n",
      "Epoch 95/100\n",
      "8000/8000 [==============================] - 45s 6ms/step - loss: 0.4998 - acc: 0.7960\n",
      "Epoch 96/100\n",
      "8000/8000 [==============================] - 36s 5ms/step - loss: 0.4990 - acc: 0.7960\n",
      "Epoch 97/100\n",
      "8000/8000 [==============================] - 35s 4ms/step - loss: 0.4994 - acc: 0.7960: 1s - loss: 0.50\n",
      "Epoch 98/100\n",
      "8000/8000 [==============================] - 43s 5ms/step - loss: 0.4992 - acc: 0.7960: 5s - loss: 0.4940 - acc: 0.799 - ETA: 5s - loss: - ETA: 4s - loss: 0.4965 - acc: 0.79 - ETA: 4s - loss: 0.4964  - ETA\n",
      "Epoch 99/100\n",
      "8000/8000 [==============================] - 56s 7ms/step - loss: 0.4990 - acc: 0.7960\n",
      "Epoch 100/100\n",
      "8000/8000 [==============================] - 56s 7ms/step - loss: 0.4989 - acc: 0.7960\n"
     ]
    },
    {
     "data": {
      "text/plain": [
       "<keras.callbacks.History at 0xda305b0>"
      ]
     },
     "execution_count": 36,
     "metadata": {},
     "output_type": "execute_result"
    }
   ],
   "source": [
    "classifier = Sequential()\n",
    "# 隐藏层 RELU（线性整流函数），输出层用S函数 \n",
    "\n",
    "# 添加第一个隐藏层\n",
    "classifier.add(Dense(units=6 ,activation='relu' ,kernel_initializer='uniform' ,input_dim = 11))  # 输入11个变量，输出1、所以隐藏层设置输入+输出/2,所以设置为6\n",
    "\n",
    "# 添加第二个隐藏层\n",
    "classifier.add(Dense(units=6 ,activation='relu' ,kernel_initializer='uniform' ))  # 输入11个变量，输出1、所以隐藏层设置输入+输出/2,所以设置为6\n",
    "\n",
    "# 输出层\n",
    "classifier.add(Dense(units=1 ,activation='sigmoid' ,kernel_initializer='uniform' ))   # 输出大于1个时，kernel_initializer 为softmax\n",
    "\n",
    "# 编译\n",
    "classifier.compile(optimizer= 'adam',loss= 'binary_crossentropy' , metrics=['accuracy']) # 分类结果2个binary_crossentropy,3个及其以上categorial_crossentropy\n",
    "\n",
    "# 拟合\n",
    "classifier.fit(X_train,y_train, batch_size= 10, epochs= 100)"
   ]
  },
  {
   "cell_type": "markdown",
   "metadata": {},
   "source": [
    "## 七、预测测试集的结果"
   ]
  },
  {
   "cell_type": "code",
   "execution_count": 43,
   "metadata": {},
   "outputs": [],
   "source": [
    "y_pred = classifier.predict(X_test)\n",
    "y_pred = (y_pred > 0.5)"
   ]
  },
  {
   "cell_type": "markdown",
   "metadata": {},
   "source": [
    "## 八、混淆矩阵"
   ]
  },
  {
   "cell_type": "code",
   "execution_count": 44,
   "metadata": {},
   "outputs": [
    {
     "data": {
      "text/plain": [
       "array([[1595,    0],\n",
       "       [ 405,    0]], dtype=int64)"
      ]
     },
     "execution_count": 44,
     "metadata": {},
     "output_type": "execute_result"
    }
   ],
   "source": [
    "from sklearn.metrics import confusion_matrix\n",
    "cm = confusion_matrix(y_test,y_pred)\n",
    "cm"
   ]
  },
  {
   "cell_type": "markdown",
   "metadata": {},
   "source": [
    "## 九、项目地址"
   ]
  },
  {
   "cell_type": "markdown",
   "metadata": {},
   "source": [
    "### https://coding.net/u/RuoYun/p/Python-of-machine-learning/git/blob/master/00%E6%9C%BA%E5%99%A8%E5%AD%A6%E4%B9%A0/5.%E8%BF%9B%E9%98%B6%E7%AE%97%E6%B3%95/2.%E6%B7%B1%E5%BA%A6%E5%AD%A6%E4%B9%A0/1.%E4%BA%BA%E5%B7%A5%E7%A5%9E%E7%BB%8F%E7%BD%91%E7%BB%9C/0.txt?public=true"
   ]
  }
 ],
 "metadata": {
  "kernelspec": {
   "display_name": "Python 3",
   "language": "python",
   "name": "python3"
  },
  "language_info": {
   "codemirror_mode": {
    "name": "ipython",
    "version": 3
   },
   "file_extension": ".py",
   "mimetype": "text/x-python",
   "name": "python",
   "nbconvert_exporter": "python",
   "pygments_lexer": "ipython3",
   "version": "3.5.4"
  }
 },
 "nbformat": 4,
 "nbformat_minor": 2
}
