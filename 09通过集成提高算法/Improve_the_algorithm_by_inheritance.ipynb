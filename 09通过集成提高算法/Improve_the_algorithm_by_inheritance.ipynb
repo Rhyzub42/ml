{
 "cells": [
  {
   "cell_type": "markdown",
   "metadata": {},
   "source": [
    "## 一、算法集成方法"
   ]
  },
  {
   "cell_type": "markdown",
   "metadata": {},
   "source": [
    "### &nbsp;&nbsp;&nbsp; &nbsp;1.装袋（Bagging）：通过给定组合投票的方式，获得最优解。比如你生病了，去n个医院看了n个医生，每个医生给你开了药方，最后的结果中，哪个药方的出现的次数多，那就说明这个药方就越有可能性是最由解，这个很好理解。而bagging算法就是这个思想。\n"
   ]
  },
  {
   "cell_type": "markdown",
   "metadata": {},
   "source": [
    "### &nbsp;&nbsp;&nbsp; &nbsp;2.提升（Boosting）：一种用来提高弱分类算法准确度的方法,这种方法通过构造一个预测函数系列,然后以一定的方式将他们组合成一个预测函数。"
   ]
  },
  {
   "cell_type": "markdown",
   "metadata": {},
   "source": [
    "### &nbsp;&nbsp;&nbsp; &nbsp;3.投票（Voting）：两个或多个算法模型，利用投票算法包装起来，计算各子模型平均预测情况"
   ]
  },
  {
   "cell_type": "markdown",
   "metadata": {},
   "source": [
    "## 二、装袋算法"
   ]
  },
  {
   "cell_type": "markdown",
   "metadata": {},
   "source": [
    "### &nbsp;&nbsp;&nbsp; &nbsp;1.装袋决策树"
   ]
  },
  {
   "cell_type": "markdown",
   "metadata": {},
   "source": [
    "#### &nbsp;&nbsp;&nbsp; &nbsp;在数据具有很大方差的情况下，非常有效"
   ]
  },
  {
   "cell_type": "markdown",
   "metadata": {},
   "source": [
    "### &nbsp;&nbsp;&nbsp; &nbsp;2.随机森林"
   ]
  },
  {
   "cell_type": "markdown",
   "metadata": {},
   "source": [
    "### &nbsp;&nbsp;&nbsp; &nbsp;是用随机的方式建立一个森林，森林里面有很多的决策树组成，随机森林的每一棵决策树之间是没有关联的。在得到森林之后，当有一个新的输入样本进入的时候，就让森林中的每一棵决策树分别进行一下判断，看看这个样本应该属于哪一类，然后看看哪一类被选择最多，就预测这个样本为那一类。"
   ]
  },
  {
   "cell_type": "markdown",
   "metadata": {},
   "source": [
    "### &nbsp;&nbsp;&nbsp; &nbsp;3.极端随机决策树"
   ]
  },
  {
   "cell_type": "markdown",
   "metadata": {},
   "source": [
    "## 三、提升算法"
   ]
  },
  {
   "cell_type": "markdown",
   "metadata": {},
   "source": [
    "### &nbsp;&nbsp;&nbsp; &nbsp;1.AdaBoost"
   ]
  },
  {
   "cell_type": "markdown",
   "metadata": {},
   "source": [
    "### &nbsp;&nbsp;&nbsp; &nbsp;其核心思想是针对同一个训练集训练不同的分类器(弱分类器)，然后把这些弱分类器集合起来，构成一个更强的最终分类器(强分类器)"
   ]
  },
  {
   "cell_type": "markdown",
   "metadata": {},
   "source": [
    "### &nbsp;&nbsp;&nbsp; &nbsp;2.随机梯度上升"
   ]
  },
  {
   "cell_type": "markdown",
   "metadata": {},
   "source": [
    "### &nbsp;&nbsp;&nbsp; &nbsp;梯度上升法基于的思想是，要找到某个函数的最大值，最好的办法就是沿着该函数的梯度方向探寻。梯度算子总是指向函数值增长最快的方向"
   ]
  },
  {
   "cell_type": "markdown",
   "metadata": {},
   "source": [
    "## 四、投票算法"
   ]
  },
  {
   "cell_type": "markdown",
   "metadata": {},
   "source": [
    "## 五、测试"
   ]
  },
  {
   "cell_type": "code",
   "execution_count": 22,
   "metadata": {},
   "outputs": [
    {
     "name": "stdout",
     "output_type": "stream",
     "text": [
      "BFC: 0.946667 (0.071802)\n",
      "ABC: 0.913333 (0.143139)\n",
      "GBC: 0.940000 (0.075719)\n",
      "BC: 0.946667 (0.071802)\n",
      "ETC: 0.940000 (0.075719)\n",
      "VC: 0.946667 (0.077746)\n"
     ]
    },
    {
     "data": {
      "image/png": "[encoded data removed]",
      "text/plain": [
       "<matplotlib.figure.Figure at 0xbc3bad0>"
      ]
     },
     "metadata": {},
     "output_type": "display_data"
    }
   ],
   "source": [
    "from pandas import read_csv\n",
    "import pandas as pd\n",
    "from sklearn.model_selection import KFold\n",
    "from sklearn.linear_model import LogisticRegression\n",
    "from sklearn.discriminant_analysis import LinearDiscriminantAnalysis\n",
    "from sklearn.neighbors import KNeighborsClassifier\n",
    "from sklearn.tree import DecisionTreeClassifier\n",
    "from sklearn.svm import SVC\n",
    "from sklearn.model_selection import cross_val_score\n",
    "from sklearn.ensemble import RandomForestClassifier\n",
    "from matplotlib import pyplot\n",
    "from sklearn.preprocessing import LabelEncoder\n",
    "\n",
    "from sklearn.ensemble import BaggingClassifier\n",
    "from sklearn.tree import DecisionTreeClassifier\n",
    "from sklearn.ensemble import RandomForestClassifier\n",
    "from sklearn.ensemble import ExtraTreesClassifier\n",
    "from sklearn.ensemble import AdaBoostClassifier\n",
    "from sklearn.ensemble import GradientBoostingClassifier\n",
    "from sklearn.ensemble import VotingClassifier\n",
    "from sklearn.tree import DecisionTreeClassifier\n",
    "from sklearn.svm import SVC\n",
    "from sklearn.linear_model import LogisticRegression\n",
    "\n",
    "# 导入数据\n",
    "iris =pd.read_csv('http://archive.ics.uci.edu/ml/machine-learning-databases/iris/iris.data',header=None)\n",
    "iris.columns=['SepalLengthCm','SepalWidthCm','PetalLengthCm','PetalWidthCm','Species'] \n",
    "\n",
    "# 将数据分为输入数据和输出结果\n",
    "arrary = iris.values\n",
    "# print(arrary)\n",
    "X =arrary[:,0:4]\n",
    "\n",
    "le = LabelEncoder()\n",
    "le.fit(iris['Species'])   \n",
    "Y = le.transform(iris['Species']) # 对花的类别进行编号处理\n",
    "\n",
    "num_folds = 10\n",
    "seed = 7\n",
    "kfold = KFold(n_splits=num_folds, random_state=seed)\n",
    "models = {}\n",
    "\n",
    "# 装袋决策树\n",
    "cart = DecisionTreeClassifier()\n",
    "num_tree = 100\n",
    "models['BC'] = BaggingClassifier(base_estimator=cart, n_estimators=num_tree, random_state=seed)\n",
    "# 随机森林\n",
    "max_features = 3\n",
    "models['BFC'] = RandomForestClassifier(n_estimators=num_tree, random_state=seed, max_features=max_features)\n",
    "# 极端随机数\n",
    "max_features = 3\n",
    "models['ETC'] = ExtraTreesClassifier(n_estimators=num_tree, random_state=seed, max_features=max_features)\n",
    "# AdaBoost\n",
    "models['ABC'] = AdaBoostClassifier(n_estimators=num_tree, random_state=seed)\n",
    "# 随机梯度上升\n",
    "models['GBC'] = GradientBoostingClassifier(n_estimators=num_tree, random_state=seed)\n",
    "\n",
    "# 投票算法\n",
    "cart = DecisionTreeClassifier()\n",
    "models2 = []\n",
    "model_ld = LinearDiscriminantAnalysis()\n",
    "models2.append(('ld', model_ld ))\n",
    "# model_cart = DecisionTreeClassifier()\n",
    "# models2.append(('cart', model_cart))\n",
    "model_svc = SVC()\n",
    "models2.append(('svm', model_svc))\n",
    "models['VC'] = VotingClassifier(estimators=models2)\n",
    "\n",
    "results = []\n",
    "for name in models:\n",
    "    result = cross_val_score(models[name], X, Y, cv=kfold)\n",
    "    results.append(result)\n",
    "    msg = '%s: %.6f (%.6f)' % (name, result.mean(), result.std())\n",
    "    print(msg)\n",
    "\n",
    "# 图表显示\n",
    "fig = pyplot.figure()\n",
    "fig.suptitle('Algorithm Comparison')\n",
    "ax = fig.add_subplot(111)\n",
    "pyplot.boxplot(results)\n",
    "ax.set_xticklabels(models.keys())\n",
    "pyplot.show()\n"
   ]
  },
  {
   "cell_type": "code",
   "execution_count": null,
   "metadata": {
    "collapsed": true
   },
   "outputs": [],
   "source": []
  },
  {
   "cell_type": "markdown",
   "metadata": {},
   "source": [
    "## 六、git与参考"
   ]
  },
  {
   "cell_type": "markdown",
   "metadata": {},
   "source": [
    "### git ：https://coding.net/u/RuoYun/p/Python-of-machine-learning/git/tree/master"
   ]
  },
  {
   "cell_type": "markdown",
   "metadata": {},
   "source": [
    "### 参考：https://read.douban.com/column/6939417/"
   ]
  }
 ],
 "metadata": {
  "kernelspec": {
   "display_name": "Python 2",
   "language": "python",
   "name": "python2"
  },
  "language_info": {
   "codemirror_mode": {
    "name": "ipython",
    "version": 2
   },
   "file_extension": ".py",
   "mimetype": "text/x-python",
   "name": "python",
   "nbconvert_exporter": "python",
   "pygments_lexer": "ipython2",
   "version": "2.7.13"
  }
 },
 "nbformat": 4,
 "nbformat_minor": 2
}
