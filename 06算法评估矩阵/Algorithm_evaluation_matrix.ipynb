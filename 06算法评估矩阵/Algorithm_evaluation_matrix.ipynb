{
 "cells": [
  {
   "cell_type": "markdown",
   "metadata": {},
   "source": [
    "## 一、算法评估矩阵"
   ]
  },
  {
   "cell_type": "markdown",
   "metadata": {},
   "source": [
    "#### 目的：合理有效的评估算法，寻找最适合的算法和参数"
   ]
  },
  {
   "cell_type": "markdown",
   "metadata": {},
   "source": [
    "## 二、分类算法矩阵"
   ]
  },
  {
   "cell_type": "markdown",
   "metadata": {},
   "source": [
    "### 2.1 分类正确率：分对了多少"
   ]
  },
  {
   "cell_type": "code",
   "execution_count": 6,
   "metadata": {},
   "outputs": [
    {
     "name": "stdout",
     "output_type": "stream",
     "text": [
      "算法评估结果准确度：0.880 (0.148)\n"
     ]
    }
   ],
   "source": [
    "from pandas import read_csv\n",
    "from sklearn.model_selection import KFold\n",
    "from sklearn.model_selection import cross_val_score\n",
    "from sklearn.linear_model import LogisticRegression\n",
    "from sklearn.preprocessing import LabelEncoder\n",
    "import pandas\n",
    "\n",
    "# 导入数据\n",
    "iris =pandas.read_csv('http://archive.ics.uci.edu/ml/machine-learning-databases/iris/iris.data',header=None)\n",
    "iris.columns=['SepalLengthCm','SepalWidthCm','PetalLengthCm','PetalWidthCm','Species'] \n",
    "\n",
    "# 将数据分为输入数据和输出结果\n",
    "arrary = iris.values\n",
    "# print(arrary)\n",
    "X =arrary[:,0:4]\n",
    "\n",
    "le = LabelEncoder()\n",
    "le.fit(iris['Species'])   \n",
    "Y = le.transform(iris['Species']) # 对花的类别进行编号处理\n",
    "# 进行训练\n",
    "num_folds = 10\n",
    "seed = 7\n",
    "kfold = KFold(n_splits=num_folds, random_state=seed)\n",
    "model = LogisticRegression()\n",
    "result = cross_val_score(model, X, Y, cv=kfold)\n",
    "print(\"算法评估结果准确度：%.3f (%.3f)\" % (result.mean(), result.std()))"
   ]
  },
  {
   "cell_type": "markdown",
   "metadata": {},
   "source": [
    "### 2.2 对数损失函数"
   ]
  },
  {
   "cell_type": "code",
   "execution_count": 9,
   "metadata": {},
   "outputs": [
    {
     "name": "stdout",
     "output_type": "stream",
     "text": [
      "Logloss -0.493 (0.047)\n"
     ]
    }
   ],
   "source": [
    "from pandas import read_csv\n",
    "from sklearn.model_selection import KFold\n",
    "from sklearn.model_selection import cross_val_score\n",
    "\n",
    "# 导入数据\n",
    "pima =pandas.read_csv('http://archive.ics.uci.edu/ml/machine-learning-databases/pima-indians-diabetes/pima-indians-diabetes.data',header=None)\n",
    "\n",
    "# 将数据分为输入数据和输出结果\n",
    "array = pima.values\n",
    "X = array[:, 0:8]\n",
    "Y = array[:, 8]\n",
    "# 进行训练\n",
    "num_folds = 10\n",
    "seed = 7\n",
    "kfold = KFold(n_splits=num_folds, random_state=seed)\n",
    "model = LogisticRegression()\n",
    "scoring = 'neg_log_loss'\n",
    "result = cross_val_score(model, X, Y, cv=kfold, scoring=scoring)\n",
    "print('Logloss %.3f (%.3f)' % (result.mean(), result.std()))"
   ]
  },
  {
   "cell_type": "markdown",
   "metadata": {},
   "source": [
    "### 2.3 AUC图"
   ]
  },
  {
   "cell_type": "code",
   "execution_count": 12,
   "metadata": {},
   "outputs": [
    {
     "name": "stdout",
     "output_type": "stream",
     "text": [
      "AUC 0.824 (0.041)\n"
     ]
    }
   ],
   "source": [
    "from pandas import read_csv\n",
    "import pandas\n",
    "from sklearn.model_selection import KFold\n",
    "from sklearn.model_selection import cross_val_score\n",
    "from sklearn.linear_model import LogisticRegression\n",
    "from sklearn.metrics import roc_auc_score\n",
    "from sklearn.preprocessing import LabelEncoder\n",
    "\n",
    "\n",
    "# 导入数据\n",
    "pima =pandas.read_csv('http://archive.ics.uci.edu/ml/machine-learning-databases/pima-indians-diabetes/pima-indians-diabetes.data',header=None)\n",
    "\n",
    "# 将数据分为输入数据和输出结果\n",
    "array = pima.values\n",
    "X = array[:, 0:8]\n",
    "Y = array[:, 8]\n",
    "# 进行训练\n",
    "num_folds = 10\n",
    "seed = 7\n",
    "kfold = KFold(n_splits=num_folds, random_state=seed)\n",
    "model = LogisticRegression()\n",
    "scoring = 'roc_auc'\n",
    "result = cross_val_score(model, X, Y, cv=kfold, scoring=scoring)\n",
    "print('AUC %.3f (%.3f)' % (result.mean(), result.std()))"
   ]
  },
  {
   "cell_type": "markdown",
   "metadata": {},
   "source": [
    "### 2.4 混淆矩阵"
   ]
  },
  {
   "cell_type": "markdown",
   "metadata": {},
   "source": [
    "## &nbsp;&nbsp;&nbsp; &nbsp;&nbsp;预&nbsp;测 \n",
    "## &nbsp;&nbsp; &nbsp;  &nbsp;&nbsp;1  &nbsp; 0\n",
    "## 实  1   X  Y\n",
    "## 际  0   Z  A"
   ]
  },
  {
   "cell_type": "code",
   "execution_count": 18,
   "metadata": {},
   "outputs": [
    {
     "name": "stdout",
     "output_type": "stream",
     "text": [
      "    0   1   2\n",
      "0  23   0   0\n",
      "1   0  10   2\n",
      "2   0   1  14\n"
     ]
    }
   ],
   "source": [
    "from pandas import read_csv\n",
    "import pandas as pd\n",
    "from sklearn.model_selection import train_test_split\n",
    "from sklearn.linear_model import LogisticRegression\n",
    "from sklearn.metrics import confusion_matrix\n",
    "from sklearn.preprocessing import LabelEncoder\n",
    "\n",
    "# 导入数据\n",
    "iris =pandas.read_csv('http://archive.ics.uci.edu/ml/machine-learning-databases/iris/iris.data',header=None)\n",
    "iris.columns=['SepalLengthCm','SepalWidthCm','PetalLengthCm','PetalWidthCm','Species'] \n",
    "\n",
    "# 将数据分为输入数据和输出结果\n",
    "arrary = iris.values\n",
    "# print(arrary)\n",
    "X =arrary[:,0:4]\n",
    "\n",
    "le = LabelEncoder()\n",
    "le.fit(iris['Species'])   \n",
    "Y = le.transform(iris['Species']) # 对花的类别进行编号处理\n",
    "# 进行训练\n",
    "test_size = 0.33\n",
    "seed = 4\n",
    "X_train, X_test, Y_traing, Y_test = train_test_split(X, Y, test_size=test_size, random_state=seed)\n",
    "model = LogisticRegression()\n",
    "model.fit(X_train, Y_traing)\n",
    "predicted = model.predict(X_test)\n",
    "matrix = confusion_matrix(Y_test, predicted)\n",
    "classes = ['0', '1', '2']\n",
    "dataframe = pd.DataFrame(data=matrix,index=classes,columns=classes)\n",
    "print(dataframe)\n"
   ]
  },
  {
   "cell_type": "markdown",
   "metadata": {},
   "source": [
    "### 2.5 分类报告"
   ]
  },
  {
   "cell_type": "markdown",
   "metadata": {},
   "source": [
    "### precision：精确率（真正/真正+假正）-- 找的准\n",
    "### recall       ：召回率（真正/真正+假负）--找的全\n",
    "### f1-score   ：精确值和召回率的调和均值,也就是2F1=1P+1R \n",
    "### support：样本数目"
   ]
  },
  {
   "cell_type": "code",
   "execution_count": 11,
   "metadata": {},
   "outputs": [
    {
     "name": "stdout",
     "output_type": "stream",
     "text": [
      "             precision    recall  f1-score   support\n",
      "\n",
      "          0       1.00      1.00      1.00        23\n",
      "          1       0.91      0.83      0.87        12\n",
      "          2       0.88      0.93      0.90        15\n",
      "\n",
      "avg / total       0.94      0.94      0.94        50\n",
      "\n"
     ]
    }
   ],
   "source": [
    "from pandas import read_csv\n",
    "from sklearn.model_selection import train_test_split\n",
    "from sklearn.linear_model import LogisticRegression\n",
    "from sklearn.metrics import classification_report\n",
    "\n",
    "# 将数据分为输入数据和输出结果\n",
    "arrary = iris.values\n",
    "# print(arrary)\n",
    "X =arrary[:,0:4]\n",
    "\n",
    "le = LabelEncoder()\n",
    "le.fit(iris['Species'])   \n",
    "Y = le.transform(iris['Species']) # 对花的类别进行编号处理\n",
    "# 进行训练\n",
    "test_size = 0.33\n",
    "seed = 4\n",
    "X_train, X_test, Y_traing, Y_test = train_test_split(X, Y, test_size=test_size, random_state=seed)\n",
    "model = LogisticRegression()\n",
    "model.fit(X_train, Y_traing)\n",
    "predicted = model.predict(X_test)\n",
    "report = classification_report(Y_test, predicted)\n",
    "print(report)"
   ]
  },
  {
   "cell_type": "markdown",
   "metadata": {},
   "source": [
    "## 三、回归算法矩阵"
   ]
  },
  {
   "cell_type": "markdown",
   "metadata": {},
   "source": [
    "### 3.1平均绝对误差：平均绝对误差能更好地反映预测值误差的实际情况"
   ]
  },
  {
   "cell_type": "code",
   "execution_count": 11,
   "metadata": {},
   "outputs": [
    {
     "name": "stdout",
     "output_type": "stream",
     "text": [
      "MAE: -4.010 (2.086)\n"
     ]
    }
   ],
   "source": [
    "from pandas import read_csv\n",
    "import pandas\n",
    "from sklearn.model_selection import KFold\n",
    "from sklearn.model_selection import cross_val_score\n",
    "from sklearn.linear_model import LinearRegression\n",
    "from sklearn.linear_model import LogisticRegression\n",
    "from sklearn.datasets import load_boston \n",
    "# 导入数据\n",
    "boston = load_boston() \n",
    "\n",
    "# 将数据分为输入数据和输出结果\n",
    "X = boston.data\n",
    "Y = boston.target\n",
    "\n",
    "n_splits = 10\n",
    "seed = 7\n",
    "kfold = KFold(n_splits=n_splits, random_state=seed)\n",
    "model = LinearRegression()\n",
    "scoring = 'neg_mean_absolute_error'\n",
    "result = cross_val_score(model, X, Y, cv=kfold, scoring=scoring)\n",
    "print('MAE: %.3f (%.3f)' % (result.mean(), result.std()))"
   ]
  },
  {
   "cell_type": "markdown",
   "metadata": {},
   "source": [
    "### 3.2均方误差：可以评价数据的变化程度，MSE的值越小，说明预测模型描述实验数据具有更好的精确度。"
   ]
  },
  {
   "cell_type": "code",
   "execution_count": 13,
   "metadata": {},
   "outputs": [
    {
     "name": "stdout",
     "output_type": "stream",
     "text": [
      "MSE: -34.763 (45.614)\n"
     ]
    }
   ],
   "source": [
    "from pandas import read_csv\n",
    "from sklearn.model_selection import KFold\n",
    "from sklearn.model_selection import cross_val_score\n",
    "from sklearn.linear_model import LinearRegression\n",
    "# 导入数据\n",
    "boston = load_boston() \n",
    "\n",
    "# 将数据分为输入数据和输出结果\n",
    "X = boston.data\n",
    "Y = boston.target\n",
    "\n",
    "n_splits = 10\n",
    "seed = 7\n",
    "kfold = KFold(n_splits=n_splits, random_state=seed)\n",
    "model = LinearRegression()\n",
    "scoring = 'neg_mean_squared_error'\n",
    "result = cross_val_score(model, X, Y, cv=kfold, scoring=scoring)\n",
    "print('MSE: %.3f (%.3f)' % (result.mean(), result.std()))\n"
   ]
  },
  {
   "cell_type": "markdown",
   "metadata": {},
   "source": [
    "### 3.1决定系数：说明列入模型的所有解释变量对因变量的联合的影响程度"
   ]
  },
  {
   "cell_type": "code",
   "execution_count": 14,
   "metadata": {},
   "outputs": [
    {
     "name": "stdout",
     "output_type": "stream",
     "text": [
      "MSE: 0.200 (0.599)\n"
     ]
    }
   ],
   "source": [
    "from pandas import read_csv\n",
    "from sklearn.model_selection import KFold\n",
    "from sklearn.model_selection import cross_val_score\n",
    "from sklearn.linear_model import LinearRegression\n",
    "# 导入数据\n",
    "boston = load_boston() \n",
    "\n",
    "# 将数据分为输入数据和输出结果\n",
    "X = boston.data\n",
    "Y = boston.target\n",
    "\n",
    "n_splits = 10\n",
    "seed = 7\n",
    "kfold = KFold(n_splits=n_splits, random_state=seed)\n",
    "model = LinearRegression()\n",
    "scoring = 'r2'\n",
    "result = cross_val_score(model, X, Y, cv=kfold, scoring=scoring)\n",
    "print('MSE: %.3f (%.3f)' % (result.mean(), result.std()))\n"
   ]
  }
 ],
 "metadata": {
  "kernelspec": {
   "display_name": "Python 2",
   "language": "python",
   "name": "python2"
  },
  "language_info": {
   "codemirror_mode": {
    "name": "ipython",
    "version": 2
   },
   "file_extension": ".py",
   "mimetype": "text/x-python",
   "name": "python",
   "nbconvert_exporter": "python",
   "pygments_lexer": "ipython2",
   "version": "2.7.13"
  }
 },
 "nbformat": 4,
 "nbformat_minor": 2
}
