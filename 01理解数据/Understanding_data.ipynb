{
 "cells": [
  {
   "cell_type": "markdown",
   "metadata": {},
   "source": [
    "## 一、数据导入"
   ]
  },
  {
   "cell_type": "code",
   "execution_count": 8,
   "metadata": {
    "collapsed": true
   },
   "outputs": [],
   "source": [
    "import pandas\n",
    "from pandas import set_option\n",
    "#括号里面直接指定了数据的来源，当然你也可以按照老师视频中所讲授的来操作\n",
    "iris = pandas.read_csv('http://archive.ics.uci.edu/ml/machine-learning-databases/iris/iris.data')\n",
    "iris.columns=['sepal_length','sepal_width','petal_length','petal_width','species']"
   ]
  },
  {
   "cell_type": "markdown",
   "metadata": {},
   "source": [
    "## 二、查看前10个数据"
   ]
  },
  {
   "cell_type": "code",
   "execution_count": 4,
   "metadata": {},
   "outputs": [
    {
     "name": "stdout",
     "output_type": "stream",
     "text": [
      "   sepal_length  sepal_width  petal_length  petal_width      species\n",
      "0           4.9          3.0           1.4          0.2  Iris-setosa\n",
      "1           4.7          3.2           1.3          0.2  Iris-setosa\n",
      "2           4.6          3.1           1.5          0.2  Iris-setosa\n",
      "3           5.0          3.6           1.4          0.2  Iris-setosa\n",
      "4           5.4          3.9           1.7          0.4  Iris-setosa\n",
      "5           4.6          3.4           1.4          0.3  Iris-setosa\n",
      "6           5.0          3.4           1.5          0.2  Iris-setosa\n",
      "7           4.4          2.9           1.4          0.2  Iris-setosa\n",
      "8           4.9          3.1           1.5          0.1  Iris-setosa\n",
      "9           5.4          3.7           1.5          0.2  Iris-setosa\n"
     ]
    }
   ],
   "source": [
    "print (iris.head(10))"
   ]
  },
  {
   "cell_type": "markdown",
   "metadata": {},
   "source": [
    "#### 数据集中主要有sepal_length、sepal_width、petal_length、petal_width。这四个属性决定最终花的种类"
   ]
  },
  {
   "cell_type": "markdown",
   "metadata": {},
   "source": [
    "## 三、查看数据的维度"
   ]
  },
  {
   "cell_type": "code",
   "execution_count": 6,
   "metadata": {},
   "outputs": [
    {
     "name": "stdout",
     "output_type": "stream",
     "text": [
      "(149, 5)\n"
     ]
    }
   ],
   "source": [
    "print(iris.shape)"
   ]
  },
  {
   "cell_type": "markdown",
   "metadata": {},
   "source": [
    "## 四、查看数据的属性和类型"
   ]
  },
  {
   "cell_type": "code",
   "execution_count": 7,
   "metadata": {},
   "outputs": [
    {
     "name": "stdout",
     "output_type": "stream",
     "text": [
      "sepal_length    float64\n",
      "sepal_width     float64\n",
      "petal_length    float64\n",
      "petal_width     float64\n",
      "species          object\n",
      "dtype: object\n"
     ]
    }
   ],
   "source": [
    "print(iris.dtypes)"
   ]
  },
  {
   "cell_type": "markdown",
   "metadata": {},
   "source": [
    "## 五、描述性统计"
   ]
  },
  {
   "cell_type": "code",
   "execution_count": 9,
   "metadata": {},
   "outputs": [
    {
     "name": "stdout",
     "output_type": "stream",
     "text": [
      "       sepal_length  sepal_width  petal_length  petal_width\n",
      "count      149.0000     149.0000      149.0000     149.0000\n",
      "mean         5.8483       3.0510        3.7745       1.2054\n",
      "std          0.8286       0.4335        1.7597       0.7613\n",
      "min          4.3000       2.0000        1.0000       0.1000\n",
      "25%          5.1000       2.8000        1.6000       0.3000\n",
      "50%          5.8000       3.0000        4.4000       1.3000\n",
      "75%          6.4000       3.3000        5.1000       1.8000\n",
      "max          7.9000       4.4000        6.9000       2.5000\n"
     ]
    }
   ],
   "source": [
    "set_option('display.width', 100)\n",
    "# 设置数据的精确度\n",
    "set_option('precision', 4)\n",
    "print(iris.describe())"
   ]
  },
  {
   "cell_type": "markdown",
   "metadata": {},
   "source": [
    "## 六、数据分组分布（适用于分类算法）"
   ]
  },
  {
   "cell_type": "code",
   "execution_count": 16,
   "metadata": {
    "scrolled": true
   },
   "outputs": [
    {
     "name": "stdout",
     "output_type": "stream",
     "text": [
      "species\n",
      "Iris-setosa        49\n",
      "Iris-versicolor    50\n",
      "Iris-virginica     50\n",
      "dtype: int64\n"
     ]
    }
   ],
   "source": [
    "print(iris.groupby('species').size())"
   ]
  },
  {
   "cell_type": "markdown",
   "metadata": {},
   "source": [
    "#### 样本中每种花的样本数量差距不大"
   ]
  },
  {
   "cell_type": "markdown",
   "metadata": {},
   "source": [
    "## 七、数据属性的相关性"
   ]
  },
  {
   "cell_type": "code",
   "execution_count": 12,
   "metadata": {},
   "outputs": [
    {
     "name": "stdout",
     "output_type": "stream",
     "text": [
      "              sepal_length  sepal_width  petal_length  petal_width\n",
      "sepal_length          1.00        -0.10          0.87         0.82\n",
      "sepal_width          -0.10         1.00         -0.42        -0.35\n",
      "petal_length          0.87        -0.42          1.00         0.96\n",
      "petal_width           0.82        -0.35          0.96         1.00\n"
     ]
    }
   ],
   "source": [
    "set_option('display.width', 100)\n",
    "# 设置数据的精确度\n",
    "set_option('precision', 2) \n",
    "print(iris.corr(method='pearson')) # 皮尔逊相关系数判断相关性:1 表示变量完全正相关， 0 表示无关，-1 表示完全负相关。"
   ]
  },
  {
   "cell_type": "markdown",
   "metadata": {},
   "source": [
    "#### 在机器学习中，有些算法（linear，逻辑回归算法等），当数据的关联性比较高时，算法的性能会降低。这为后续的训练模型构建起到帮助"
   ]
  },
  {
   "cell_type": "markdown",
   "metadata": {},
   "source": [
    "## 八、数据的分布分析"
   ]
  },
  {
   "cell_type": "code",
   "execution_count": 13,
   "metadata": {},
   "outputs": [
    {
     "name": "stdout",
     "output_type": "stream",
     "text": [
      "sepal_length    0.30\n",
      "sepal_width     0.35\n",
      "petal_length   -0.29\n",
      "petal_width    -0.12\n",
      "dtype: float64\n"
     ]
    }
   ],
   "source": [
    "print(iris.skew())  # skew()函数的结果，显示了数据分布的左偏或右偏。当数据接近0是，表示数据的偏差非常小。"
   ]
  },
  {
   "cell_type": "markdown",
   "metadata": {},
   "source": [
    "## 九、总结"
   ]
  },
  {
   "cell_type": "markdown",
   "metadata": {},
   "source": [
    "### 审查数字：通常描述性分析给出的数据是不充分的。我们应该停下来观察，思考一下我们的数据。找到数据的内在联系和给我们带来了什么。\n",
    "### 问为什么：审查数字后多问几个为什么。你是如何看到和为什么看到这些数字的特殊性。思考一下这些数字和问题如何关联到一起。这些数字和我们的问题有什么关系等。\n",
    "### 写下想法：写下自己通过观察得到的想法。通过便签，记事本等将观察到的数据各维度的关联关系，我们的想法都记录下来。数字代表什么，我们将采用什么样的技术继续挖掘数据等。你写下的这些想法将会对你的新的尝试带了极大的价值。\n",
    "\n"
   ]
  },
  {
   "cell_type": "markdown",
   "metadata": {},
   "source": [
    "## 十、参考及git\n",
    "### git: https://coding.net/u/RuoYun/p/Python-of-machine-learning/git/tree/master\n",
    "### 参考：https://read.douban.com/reader/column/6939417/chapter/35749876/\n"
   ]
  }
 ],
 "metadata": {
  "kernelspec": {
   "display_name": "Python 2",
   "language": "python",
   "name": "python2"
  },
  "language_info": {
   "codemirror_mode": {
    "name": "ipython",
    "version": 2
   },
   "file_extension": ".py",
   "mimetype": "text/x-python",
   "name": "python",
   "nbconvert_exporter": "python",
   "pygments_lexer": "ipython2",
   "version": "2.7.13"
  }
 },
 "nbformat": 4,
 "nbformat_minor": 2
}
