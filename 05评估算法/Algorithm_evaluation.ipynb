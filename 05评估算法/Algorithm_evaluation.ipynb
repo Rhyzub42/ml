{
 "cells": [
  {
   "cell_type": "markdown",
   "metadata": {},
   "source": [
    "## 一、分离训练数据集和评估数据集"
   ]
  },
  {
   "cell_type": "code",
   "execution_count": 9,
   "metadata": {},
   "outputs": [
    {
     "name": "stdout",
     "output_type": "stream",
     "text": [
      "算法评估结果：98.000%\n"
     ]
    }
   ],
   "source": [
    "# 通过卡方检验选定数据特征\n",
    "import pandas\n",
    "from pandas import read_csv\n",
    "from sklearn.preprocessing import LabelEncoder\n",
    "from sklearn.model_selection import train_test_split\n",
    "from sklearn.linear_model import LogisticRegression\n",
    "# 导入数据\n",
    "iris =pandas.read_csv('http://archive.ics.uci.edu/ml/machine-learning-databases/iris/iris.data',header=None)\n",
    "iris.columns=['SepalLengthCm','SepalWidthCm','PetalLengthCm','PetalWidthCm','Species'] \n",
    "\n",
    "# 将数据分为输入数据和输出结果\n",
    "arrary = iris.values\n",
    "X =arrary[:,0:4]\n",
    "\n",
    "le = LabelEncoder()\n",
    "le.fit(iris['Species'])   \n",
    "Y = le.transform(iris['Species']) # 对花的类别进行编号处理\n",
    "# 分为测试集和训练集\n",
    "test_size = 0.33\n",
    "seed = 6\n",
    "X_train, X_test, Y_traing, Y_test = train_test_split(X, Y, test_size=test_size, random_state=seed)\n",
    "# 选择模型\n",
    "model = LogisticRegression()\n",
    "# 进行训练\n",
    "model.fit(X_train, Y_traing)\n",
    "# 用测试集查看训练结果\n",
    "result = model.score(X_test, Y_test)\n",
    "print(\"算法评估结果：%.3f%%\" % (result * 100))"
   ]
  },
  {
   "cell_type": "markdown",
   "metadata": {},
   "source": [
    "## 二、K折交叉验证分离"
   ]
  },
  {
   "cell_type": "code",
   "execution_count": 16,
   "metadata": {},
   "outputs": [
    {
     "name": "stdout",
     "output_type": "stream",
     "text": [
      "结果：88.000,14.847\n"
     ]
    }
   ],
   "source": [
    "from pandas import read_csv\n",
    "from sklearn.model_selection import train_test_split\n",
    "from sklearn.linear_model import LogisticRegression\n",
    "from sklearn.model_selection import cross_val_score\n",
    "from sklearn.model_selection import KFold \n",
    "# 导入数据\n",
    "iris =pandas.read_csv('http://archive.ics.uci.edu/ml/machine-learning-databases/iris/iris.data',header=None)\n",
    "iris.columns=['SepalLengthCm','SepalWidthCm','PetalLengthCm','PetalWidthCm','Species'] \n",
    "\n",
    "# 将数据分为输入数据和输出结果\n",
    "arrary = iris.values\n",
    "X =arrary[:,0:4]\n",
    "\n",
    "le = LabelEncoder()\n",
    "le.fit(iris['Species'])   \n",
    "Y = le.transform(iris['Species']) # 对花的类别进行编号处理\n",
    "\n",
    "# K折交叉\n",
    "n_splits=10 \n",
    "seed=6\n",
    "kfold=KFold(n_splits=n_splits,random_state=seed,shuffle=False)\n",
    "# 选择模型\n",
    "model = LogisticRegression()\n",
    "# 查看训练结果\n",
    "result=cross_val_score(model, X,Y,cv=kfold)\n",
    "print(\"结果：%.3f,%.3f\"%(result.mean()*100, result.std()*100)) "
   ]
  },
  {
   "cell_type": "markdown",
   "metadata": {},
   "source": [
    "## 三、弃一交叉验证分离"
   ]
  },
  {
   "cell_type": "code",
   "execution_count": 17,
   "metadata": {},
   "outputs": [
    {
     "name": "stdout",
     "output_type": "stream",
     "text": [
      "算法评估结果：95.333% (21.092%)\n"
     ]
    }
   ],
   "source": [
    "from pandas import read_csv\n",
    "from sklearn.model_selection import LeaveOneOut\n",
    "from sklearn.model_selection import cross_val_score\n",
    "from sklearn.linear_model import LogisticRegression\n",
    "# 导入数据\n",
    "iris =pandas.read_csv('http://archive.ics.uci.edu/ml/machine-learning-databases/iris/iris.data',header=None)\n",
    "iris.columns=['SepalLengthCm','SepalWidthCm','PetalLengthCm','PetalWidthCm','Species'] \n",
    "\n",
    "# 将数据分为输入数据和输出结果\n",
    "arrary = iris.values\n",
    "X =arrary[:,0:4]\n",
    "\n",
    "le = LabelEncoder()\n",
    "le.fit(iris['Species'])   \n",
    "Y = le.transform(iris['Species']) # 对花的类别进行编号处理\n",
    "# 选择弃一交叉验证\n",
    "loocv = LeaveOneOut()\n",
    "# 选择模型\n",
    "model = LogisticRegression()\n",
    "result = cross_val_score(model, X, Y, cv=loocv)\n",
    "print(\"算法评估结果：%.3f%% (%.3f%%)\" % (result.mean() * 100, result.std() * 100))"
   ]
  },
  {
   "cell_type": "markdown",
   "metadata": {},
   "source": [
    "## 四、重复随机评估、训练集分离"
   ]
  },
  {
   "cell_type": "code",
   "execution_count": 18,
   "metadata": {},
   "outputs": [
    {
     "name": "stdout",
     "output_type": "stream",
     "text": [
      "算法评估结果：94.600% (2.973%)\n"
     ]
    }
   ],
   "source": [
    "from pandas import read_csv\n",
    "from sklearn.model_selection import ShuffleSplit\n",
    "from sklearn.model_selection import cross_val_score\n",
    "from sklearn.linear_model import LogisticRegression\n",
    "## 导入数据\n",
    "iris =pandas.read_csv('http://archive.ics.uci.edu/ml/machine-learning-databases/iris/iris.data',header=None)\n",
    "iris.columns=['SepalLengthCm','SepalWidthCm','PetalLengthCm','PetalWidthCm','Species'] \n",
    "\n",
    "# 将数据分为输入数据和输出结果\n",
    "arrary = iris.values\n",
    "X =arrary[:,0:4]\n",
    "\n",
    "le = LabelEncoder()\n",
    "le.fit(iris['Species'])   \n",
    "Y = le.transform(iris['Species']) # 对花的类别进行编号处理\n",
    "\n",
    "# 重复10次分离，起到K交叉验证的作用\n",
    "n_splits = 10\n",
    "test_size = 0.33\n",
    "seed = 6\n",
    "kfold = ShuffleSplit(n_splits=n_splits, test_size=test_size, random_state=seed)\n",
    "# 选择模型\n",
    "model = LogisticRegression()\n",
    "# 查看结果\n",
    "result = cross_val_score(model, X, Y, cv=kfold)\n",
    "print(\"算法评估结果：%.3f%% (%.3f%%)\" % (result.mean() * 100, result.std() * 100))"
   ]
  },
  {
   "cell_type": "markdown",
   "metadata": {},
   "source": [
    "## 五、总结"
   ]
  },
  {
   "cell_type": "markdown",
   "metadata": {},
   "source": [
    "#### 5.1一般情况下，都会用：K折交叉验证来分离数据集。"
   ]
  },
  {
   "cell_type": "markdown",
   "metadata": {},
   "source": [
    "#### 5.2 数据量比较大，或者算法效率较低的情况下会考虑：分离训练数据集和评估数据"
   ]
  },
  {
   "cell_type": "markdown",
   "metadata": {},
   "source": [
    "#### 5.3 平衡评估算法，模型训练的速度以及数据集的大小:弃一交叉验证和重复随机评估、训练集分离"
   ]
  },
  {
   "cell_type": "markdown",
   "metadata": {},
   "source": [
    "## 六、参考及git"
   ]
  },
  {
   "cell_type": "markdown",
   "metadata": {},
   "source": [
    "### git: https://coding.net/u/RuoYun/p/Python-of-machine-learning/git"
   ]
  },
  {
   "cell_type": "markdown",
   "metadata": {},
   "source": [
    "### 参考：https://read.douban.com/column/6939417/"
   ]
  }
 ],
 "metadata": {
  "kernelspec": {
   "display_name": "Python 2",
   "language": "python",
   "name": "python2"
  },
  "language_info": {
   "codemirror_mode": {
    "name": "ipython",
    "version": 2
   },
   "file_extension": ".py",
   "mimetype": "text/x-python",
   "name": "python",
   "nbconvert_exporter": "python",
   "pygments_lexer": "ipython2",
   "version": "2.7.13"
  }
 },
 "nbformat": 4,
 "nbformat_minor": 2
}
